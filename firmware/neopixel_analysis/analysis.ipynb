{
 "cells": [
  {
   "cell_type": "code",
   "execution_count": 65,
   "id": "c9354da6",
   "metadata": {},
   "outputs": [],
   "source": [
    "import pandas as pd\n",
    "import itertools\n",
    "import numpy as np"
   ]
  },
  {
   "cell_type": "code",
   "execution_count": 66,
   "id": "6b5869cb",
   "metadata": {},
   "outputs": [],
   "source": [
    "DCOCLK = 24e6\n",
    "SMCLK_DIV = [1, 2, 4, 8, 16, 32]\n",
    "UCBRx = list(range(1, 128))\n",
    "\n",
    "transition_spot = list(range(1,8))\n",
    "\n",
    "T0H_min = 200e-9\n",
    "T0H_max = 500e-9\n",
    "\n",
    "T1H_min = 550e-9\n",
    "\n",
    "TLD_min = 450e-9\n",
    "TLD_max = 5000e-9"
   ]
  },
  {
   "cell_type": "code",
   "execution_count": 61,
   "id": "c9a7c001",
   "metadata": {},
   "outputs": [
    {
     "name": "stdout",
     "output_type": "stream",
     "text": [
      "OK combination: DIVS = 1, UCBRx = 11, t1_s = 2, t0_s = 1\n",
      "SPI CLK is 2.1818181818181817 MHz\n",
      "T0H: 458.33333333333337 ns\n",
      "T1H: 916.6666666666667 ns\n",
      "T0L: 3208.3333333333335 ns\n",
      "T1L: 2750.0000000000005 ns\n",
      "\n",
      "OK combination: DIVS = 1, UCBRx = 11, t1_s = 3, t0_s = 1\n",
      "SPI CLK is 2.1818181818181817 MHz\n",
      "T0H: 458.33333333333337 ns\n",
      "T1H: 1375.0000000000002 ns\n",
      "T0L: 3208.3333333333335 ns\n",
      "T1L: 2291.666666666667 ns\n",
      "\n",
      "OK combination: DIVS = 1, UCBRx = 11, t1_s = 4, t0_s = 1\n",
      "SPI CLK is 2.1818181818181817 MHz\n",
      "T0H: 458.33333333333337 ns\n",
      "T1H: 1833.3333333333335 ns\n",
      "T0L: 3208.3333333333335 ns\n",
      "T1L: 1833.3333333333335 ns\n",
      "\n",
      "OK combination: DIVS = 1, UCBRx = 11, t1_s = 5, t0_s = 1\n",
      "SPI CLK is 2.1818181818181817 MHz\n",
      "T0H: 458.33333333333337 ns\n",
      "T1H: 2291.666666666667 ns\n",
      "T0L: 3208.3333333333335 ns\n",
      "T1L: 1375.0000000000002 ns\n",
      "\n",
      "OK combination: DIVS = 1, UCBRx = 11, t1_s = 6, t0_s = 1\n",
      "SPI CLK is 2.1818181818181817 MHz\n",
      "T0H: 458.33333333333337 ns\n",
      "T1H: 2750.0000000000005 ns\n",
      "T0L: 3208.3333333333335 ns\n",
      "T1L: 916.6666666666667 ns\n",
      "\n",
      "OK combination: DIVS = 1, UCBRx = 11, t1_s = 7, t0_s = 1\n",
      "SPI CLK is 2.1818181818181817 MHz\n",
      "T0H: 458.33333333333337 ns\n",
      "T1H: 3208.3333333333335 ns\n",
      "T0L: 3208.3333333333335 ns\n",
      "T1L: 458.33333333333337 ns\n",
      "\n"
     ]
    }
   ],
   "source": [
    "for s_d, u_d, t0_s, t1_s in itertools.product(SMCLK_DIV, UCBRx, transition_spot, transition_spot):\n",
    "    #print(f\"Testing DIVS = {s_d}, UCBRx = {u_d}\")\n",
    "    spi_clk = DCOCLK/s_d/u_d\n",
    "    #print(f\"SPI CLK is {spi_clk/1e6} MHz\")\n",
    "    ok = True\n",
    "    t1h = t1_s/spi_clk\n",
    "    t1l = (8 - t1_s)/spi_clk\n",
    "    t0h = t0_s/spi_clk\n",
    "    t0l = (8 - t0_s)/spi_clk\n",
    "    if not (T0H_min < t0h < T0H_max):\n",
    "        #print(\"T0H not in range\")\n",
    "        ok = False\n",
    "    if not (t1h > T1H_min):\n",
    "        #print(\"T1H below minimum\")\n",
    "        ok = False\n",
    "    if not (TLD_min < t0l < TLD_max):\n",
    "        #print(\"T0L not in range\")\n",
    "        ok = False\n",
    "    if not (TLD_min < t0h < TLD_max):\n",
    "        #print(\"T0H not in range\")\n",
    "        ok = False\n",
    "    \n",
    "    if not ok:\n",
    "        #print()\n",
    "        continue\n",
    "\n",
    "    print(f\"OK combination: DIVS = {s_d}, UCBRx = {u_d}, t1_s = {t1_s}, t0_s = {t0_s}\")\n",
    "    print(f\"SPI CLK is {DCOCLK/s_d/u_d/1e6} MHz\")\n",
    "    print(f\"T0H: {t0h*1e9} ns\")\n",
    "    print(f\"T1H: {t1h*1e9} ns\")\n",
    "    print(f\"T0L: {t0l*1e9} ns\")\n",
    "    print(f\"T1L: {t1l*1e9} ns\")\n",
    "    print()"
   ]
  },
  {
   "cell_type": "code",
   "execution_count": 68,
   "id": "6ee3d13e",
   "metadata": {},
   "outputs": [
    {
     "name": "stdout",
     "output_type": "stream",
     "text": [
      "At 24.0 MHz:\n",
      "Between 4.8 and 12.0 cycles for T0H\n",
      "At least 13.200000000000001 cycles for T1H\n",
      "Between 10.799999999999999 and 120.00000000000001 cycles for TLD\n"
     ]
    }
   ],
   "source": [
    "T0H_min_c = T0H_min*DCOCLK\n",
    "T0H_max_c = T0H_max*DCOCLK\n",
    "\n",
    "T1H_min_c = T1H_min*DCOCLK\n",
    "\n",
    "TLD_min_c = TLD_min*DCOCLK\n",
    "TLD_max_c = TLD_max*DCOCLK\n",
    "\n",
    "print(f\"At {DCOCLK/1e6} MHz:\")\n",
    "print(f\"Between {T0H_min_c} and {T0H_max_c} cycles for T0H\")\n",
    "print(f\"At least {T1H_min_c} cycles for T1H\")\n",
    "print(f\"Between {TLD_min_c} and {TLD_max_c} cycles for TLD\")"
   ]
  },
  {
   "cell_type": "code",
   "execution_count": null,
   "id": "504a7f68",
   "metadata": {},
   "outputs": [],
   "source": []
  }
 ],
 "metadata": {
  "kernelspec": {
   "display_name": "Python 3",
   "language": "python",
   "name": "python3"
  },
  "language_info": {
   "codemirror_mode": {
    "name": "ipython",
    "version": 3
   },
   "file_extension": ".py",
   "mimetype": "text/x-python",
   "name": "python",
   "nbconvert_exporter": "python",
   "pygments_lexer": "ipython3",
   "version": "3.8.8"
  }
 },
 "nbformat": 4,
 "nbformat_minor": 5
}
